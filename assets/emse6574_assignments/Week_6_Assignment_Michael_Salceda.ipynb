{
  "nbformat": 4,
  "nbformat_minor": 0,
  "metadata": {
    "colab": {
      "name": "Week_6_Assignment_Michael_Salceda.ipynb",
      "provenance": [],
      "collapsed_sections": [],
      "authorship_tag": "ABX9TyP2LClzu7CiO+WN281HE1Xo"
    },
    "kernelspec": {
      "name": "python3",
      "display_name": "Python 3"
    }
  },
  "cells": [
    {
      "cell_type": "markdown",
      "metadata": {
        "id": "G-mcTBVhUQRk"
      },
      "source": [
        "# Week 6 Assignment\n",
        "Find a regressor that will predict diamond prices better than the in-class regressor. It should have:\n",
        "* Fewer errors > $2,500\n",
        "* Fewer or no errors > 10% of price\n",
        "\n",
        "The dataset to use is the diamond dataset (https://www.kaggle.com/shivam2503/diamonds).\n"
      ]
    },
    {
      "cell_type": "markdown",
      "metadata": {
        "id": "_36SXAOZU2C8"
      },
      "source": [
        "## Data Loading"
      ]
    },
    {
      "cell_type": "code",
      "metadata": {
        "id": "2pIRvnpcT4FF",
        "outputId": "2947ae80-35bd-4e22-b181-2b41e11e6d0d",
        "colab": {
          "base_uri": "https://localhost:8080/",
          "height": 50
        }
      },
      "source": [
        "from google.colab import drive\n",
        "drive.mount('/data/')\n",
        "data_dir = '/data/My Drive/EMSE 6574/data'\n",
        "!ls '/data/My Drive/EMSE 6574/data'"
      ],
      "execution_count": null,
      "outputs": [
        {
          "output_type": "stream",
          "text": [
            "Drive already mounted at /data/; to attempt to forcibly remount, call drive.mount(\"/data/\", force_remount=True).\n",
            "datasets_1474_2639_IMDB-Movie-Data.csv\tdiamonds.csv\n"
          ],
          "name": "stdout"
        }
      ]
    },
    {
      "cell_type": "code",
      "metadata": {
        "id": "-0-hIXhZU-eh",
        "outputId": "e897d84a-a9bb-4773-862c-3aa19255713a",
        "colab": {
          "base_uri": "https://localhost:8080/",
          "height": 195
        }
      },
      "source": [
        "import pandas as pd\n",
        "diamonds = pd.read_csv(f'{data_dir}/diamonds.csv')\n",
        "diamonds = diamonds.drop(columns = 'Unnamed: 0')\n",
        "diamonds.head()"
      ],
      "execution_count": null,
      "outputs": [
        {
          "output_type": "execute_result",
          "data": {
            "text/html": [
              "<div>\n",
              "<style scoped>\n",
              "    .dataframe tbody tr th:only-of-type {\n",
              "        vertical-align: middle;\n",
              "    }\n",
              "\n",
              "    .dataframe tbody tr th {\n",
              "        vertical-align: top;\n",
              "    }\n",
              "\n",
              "    .dataframe thead th {\n",
              "        text-align: right;\n",
              "    }\n",
              "</style>\n",
              "<table border=\"1\" class=\"dataframe\">\n",
              "  <thead>\n",
              "    <tr style=\"text-align: right;\">\n",
              "      <th></th>\n",
              "      <th>carat</th>\n",
              "      <th>cut</th>\n",
              "      <th>color</th>\n",
              "      <th>clarity</th>\n",
              "      <th>depth</th>\n",
              "      <th>table</th>\n",
              "      <th>price</th>\n",
              "      <th>x</th>\n",
              "      <th>y</th>\n",
              "      <th>z</th>\n",
              "    </tr>\n",
              "  </thead>\n",
              "  <tbody>\n",
              "    <tr>\n",
              "      <th>0</th>\n",
              "      <td>0.23</td>\n",
              "      <td>Ideal</td>\n",
              "      <td>E</td>\n",
              "      <td>SI2</td>\n",
              "      <td>61.5</td>\n",
              "      <td>55.0</td>\n",
              "      <td>326</td>\n",
              "      <td>3.95</td>\n",
              "      <td>3.98</td>\n",
              "      <td>2.43</td>\n",
              "    </tr>\n",
              "    <tr>\n",
              "      <th>1</th>\n",
              "      <td>0.21</td>\n",
              "      <td>Premium</td>\n",
              "      <td>E</td>\n",
              "      <td>SI1</td>\n",
              "      <td>59.8</td>\n",
              "      <td>61.0</td>\n",
              "      <td>326</td>\n",
              "      <td>3.89</td>\n",
              "      <td>3.84</td>\n",
              "      <td>2.31</td>\n",
              "    </tr>\n",
              "    <tr>\n",
              "      <th>2</th>\n",
              "      <td>0.23</td>\n",
              "      <td>Good</td>\n",
              "      <td>E</td>\n",
              "      <td>VS1</td>\n",
              "      <td>56.9</td>\n",
              "      <td>65.0</td>\n",
              "      <td>327</td>\n",
              "      <td>4.05</td>\n",
              "      <td>4.07</td>\n",
              "      <td>2.31</td>\n",
              "    </tr>\n",
              "    <tr>\n",
              "      <th>3</th>\n",
              "      <td>0.29</td>\n",
              "      <td>Premium</td>\n",
              "      <td>I</td>\n",
              "      <td>VS2</td>\n",
              "      <td>62.4</td>\n",
              "      <td>58.0</td>\n",
              "      <td>334</td>\n",
              "      <td>4.20</td>\n",
              "      <td>4.23</td>\n",
              "      <td>2.63</td>\n",
              "    </tr>\n",
              "    <tr>\n",
              "      <th>4</th>\n",
              "      <td>0.31</td>\n",
              "      <td>Good</td>\n",
              "      <td>J</td>\n",
              "      <td>SI2</td>\n",
              "      <td>63.3</td>\n",
              "      <td>58.0</td>\n",
              "      <td>335</td>\n",
              "      <td>4.34</td>\n",
              "      <td>4.35</td>\n",
              "      <td>2.75</td>\n",
              "    </tr>\n",
              "  </tbody>\n",
              "</table>\n",
              "</div>"
            ],
            "text/plain": [
              "   carat      cut color clarity  depth  table  price     x     y     z\n",
              "0   0.23    Ideal     E     SI2   61.5   55.0    326  3.95  3.98  2.43\n",
              "1   0.21  Premium     E     SI1   59.8   61.0    326  3.89  3.84  2.31\n",
              "2   0.23     Good     E     VS1   56.9   65.0    327  4.05  4.07  2.31\n",
              "3   0.29  Premium     I     VS2   62.4   58.0    334  4.20  4.23  2.63\n",
              "4   0.31     Good     J     SI2   63.3   58.0    335  4.34  4.35  2.75"
            ]
          },
          "metadata": {
            "tags": []
          },
          "execution_count": 2
        }
      ]
    },
    {
      "cell_type": "markdown",
      "metadata": {
        "id": "wfigIpE9VeHC"
      },
      "source": [
        "## Feature Engineering"
      ]
    },
    {
      "cell_type": "code",
      "metadata": {
        "id": "HWz2WVnPVQpj"
      },
      "source": [
        "from sklearn.preprocessing import StandardScaler"
      ],
      "execution_count": null,
      "outputs": []
    },
    {
      "cell_type": "code",
      "metadata": {
        "id": "E3MFO13PXNFm"
      },
      "source": [
        "# Split into X and y\n",
        "X = diamonds.drop(columns = 'price')\n",
        "y = diamonds['price']\n",
        "\n",
        "# Label-encode categorical variables\n",
        "cut_mapping = {'Fair': 0, 'Good': 1, 'Very Good': 2, 'Premium': 3, 'Ideal': 4}\n",
        "color_mapping = {'J': 0, 'I': 1, 'H': 2, 'G': 3, 'F': 4, 'E': 5, 'D': 6}\n",
        "clarity_mapping = {\n",
        "    'I3': 0, 'I2': 1, 'I1': 2, 'SI2': 3, 'SI1': 4, 'VS2': 5, 'VS1': 6, \n",
        "    'VVS2': 7, 'VVS1': 8, 'IF': 9, 'FL': 10\n",
        "}\n",
        "X['cut_le'] = X['cut'].apply(lambda x: cut_mapping[x])\n",
        "X['color_le'] = X['color'].apply(lambda x: color_mapping[x])\n",
        "X['clarity_le'] = X['clarity'].apply(lambda x: clarity_mapping[x])\n",
        "\n",
        "# Drop unncessary columns\n",
        "X = X.drop(columns = ['cut', 'color', 'clarity'])\n",
        "\n",
        "# Scale all the features to zero mean and unit variance\n",
        "scaler = StandardScaler()\n",
        "X_scaled = scaler.fit_transform(X)"
      ],
      "execution_count": null,
      "outputs": []
    },
    {
      "cell_type": "markdown",
      "metadata": {
        "id": "WbdcUSDLdntd"
      },
      "source": [
        "## Train-Test Split"
      ]
    },
    {
      "cell_type": "code",
      "metadata": {
        "id": "PYetGAXHYOh_"
      },
      "source": [
        "from sklearn.model_selection import train_test_split"
      ],
      "execution_count": null,
      "outputs": []
    },
    {
      "cell_type": "code",
      "metadata": {
        "id": "zfZvq48OdtHr",
        "outputId": "8040bc10-1acc-439c-add3-0451697805ea",
        "colab": {
          "base_uri": "https://localhost:8080/",
          "height": 50
        }
      },
      "source": [
        "# Do 80/20 split for the train-test split\n",
        "X_train, X_test, y_train, y_test = train_test_split(X_scaled, y, test_size = 0.2)\n",
        "\n",
        "print(f'Training Shape: {X_train.shape}')\n",
        "print(f'Testing Shape:  {X_test.shape}')"
      ],
      "execution_count": null,
      "outputs": [
        {
          "output_type": "stream",
          "text": [
            "Training Shape: (43152, 9)\n",
            "Testing Shape:  (10788, 9)\n"
          ],
          "name": "stdout"
        }
      ]
    },
    {
      "cell_type": "markdown",
      "metadata": {
        "id": "B3wMFQbFeJgp"
      },
      "source": [
        "## Regression Modeling"
      ]
    },
    {
      "cell_type": "markdown",
      "metadata": {
        "id": "vkIwnHIFfDtH"
      },
      "source": [
        "### Model Fitting"
      ]
    },
    {
      "cell_type": "code",
      "metadata": {
        "id": "Bed9vwbAeE3w"
      },
      "source": [
        "from sklearn.linear_model import Ridge, Lasso\n",
        "from sklearn.ensemble import RandomForestRegressor\n",
        "from sklearn.svm import SVR"
      ],
      "execution_count": null,
      "outputs": []
    },
    {
      "cell_type": "code",
      "metadata": {
        "id": "_EUOWu9mesHX"
      },
      "source": [
        "# Fit ridge regression model\n",
        "ridge_reg = Ridge()\n",
        "ridge_reg.fit(X_train, y_train)\n",
        "\n",
        "# Get test predictions\n",
        "y_pred_ridge = ridge_reg.predict(X_test)"
      ],
      "execution_count": null,
      "outputs": []
    },
    {
      "cell_type": "code",
      "metadata": {
        "id": "RrbY5-kUhmyg"
      },
      "source": [
        "# Fit LASSO regression model\n",
        "lasso_reg = Lasso()\n",
        "lasso_reg.fit(X_train, y_train)\n",
        "\n",
        "# Get test predictions\n",
        "y_pred_lasso = lasso_reg.predict(X_test)"
      ],
      "execution_count": null,
      "outputs": []
    },
    {
      "cell_type": "code",
      "metadata": {
        "id": "Uw41KNOEiGeQ"
      },
      "source": [
        "# Fit Random Forest regression model\n",
        "rf_reg = RandomForestRegressor()\n",
        "rf_reg.fit(X_train, y_train)\n",
        "\n",
        "# Get test predictions\n",
        "y_pred_rf = rf_reg.predict(X_test)"
      ],
      "execution_count": null,
      "outputs": []
    },
    {
      "cell_type": "code",
      "metadata": {
        "id": "T5YJx984iYtA"
      },
      "source": [
        "# Fit support vector regression model\n",
        "sv_reg = SVR()\n",
        "sv_reg.fit(X_train, y_train)\n",
        "\n",
        "# Get test predictions\n",
        "y_pred_svr = sv_reg.predict(X_test)"
      ],
      "execution_count": null,
      "outputs": []
    },
    {
      "cell_type": "markdown",
      "metadata": {
        "id": "Rz8zN85XfFgo"
      },
      "source": [
        "### Model Evaluation\n",
        "Based on the distribution of errors below and RMSE, we are able to beat the in-class SVR by using a random forest regressor! "
      ]
    },
    {
      "cell_type": "code",
      "metadata": {
        "id": "9zXpkIFxfGuQ"
      },
      "source": [
        "from sklearn.metrics import mean_squared_error\n",
        "import seaborn as sns\n",
        "import matplotlib.pyplot as plt\n",
        "\n",
        "sns.set_style('darkgrid')\n",
        "%matplotlib inline"
      ],
      "execution_count": null,
      "outputs": []
    },
    {
      "cell_type": "code",
      "metadata": {
        "id": "eRmfT3yFfo4-",
        "outputId": "b6e2c9ad-7c32-4c11-a3ee-0165105a63e0",
        "colab": {
          "base_uri": "https://localhost:8080/",
          "height": 84
        }
      },
      "source": [
        "print(f'In-Class Support Vector Regression RMSE: {mean_squared_error(y_test, y_pred_svr, squared = False)}')\n",
        "print(f'Ridge Regression RMSE:                   {mean_squared_error(y_test, y_pred_ridge, squared = False)}')\n",
        "print(f'LASSO Regression RMSE:                   {mean_squared_error(y_test, y_pred_lasso, squared = False)}')\n",
        "print(f'Random Forest Regression RMSE:           {mean_squared_error(y_test, y_pred_rf, squared = False)}')"
      ],
      "execution_count": null,
      "outputs": [
        {
          "output_type": "stream",
          "text": [
            "In-Class Support Vector Regression RMSE: 2785.8518721986725\n",
            "Ridge Regression RMSE:                   1230.46609244888\n",
            "LASSO Regression RMSE:                   1230.9287708264023\n",
            "Random Forest Regression RMSE:           551.5666198688075\n"
          ],
          "name": "stdout"
        }
      ]
    },
    {
      "cell_type": "code",
      "metadata": {
        "id": "DbaSDkZNhiiZ"
      },
      "source": [
        "errors_ridge = y_test - y_pred_ridge\n",
        "errors_lasso = y_test - y_pred_lasso\n",
        "errors_rf = y_test - y_pred_rf\n",
        "errors_svr = y_test - y_pred_svr"
      ],
      "execution_count": null,
      "outputs": []
    },
    {
      "cell_type": "code",
      "metadata": {
        "id": "_g2EvgYTh6h1",
        "outputId": "52d1ba0f-13a5-469c-856c-1c856723c0ca",
        "colab": {
          "base_uri": "https://localhost:8080/",
          "height": 621
        }
      },
      "source": [
        "fig, axs = plt.subplots(2, 2, figsize = (20, 10), sharex = True, sharey = True)\n",
        "sns.histplot(errors_svr, ax = axs[0, 0]);\n",
        "sns.histplot(errors_lasso, ax = axs[0, 1]);\n",
        "sns.histplot(errors_rf, ax = axs[1, 0]);\n",
        "sns.histplot(errors_ridge, ax = axs[1, 1]);\n",
        "axs[0, 0].set_title('In-Class SVR Regression');\n",
        "axs[0, 1].set_title('LASSO Regression');\n",
        "axs[1, 0].set_title('Random Forest Regression');\n",
        "axs[1, 1].set_title('Ridge Regression');"
      ],
      "execution_count": null,
      "outputs": [
        {
          "output_type": "display_data",
          "data": {
            "image/png": "[encoded data removed]",
            "text/plain": [
              "<Figure size 1440x720 with 4 Axes>"
            ]
          },
          "metadata": {
            "tags": [],
            "needs_background": "light"
          }
        }
      ]
    }
  ]
}