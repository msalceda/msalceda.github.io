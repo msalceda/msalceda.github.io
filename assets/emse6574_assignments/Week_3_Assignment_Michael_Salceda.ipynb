{
  "nbformat": 4,
  "nbformat_minor": 0,
  "metadata": {
    "colab": {
      "name": "Week_3_Assignment_Michael_Salceda.ipynb",
      "provenance": [],
      "collapsed_sections": [],
      "toc_visible": true,
      "authorship_tag": "ABX9TyP1oE8hBdPge/6s5/JmbRui"
    },
    "kernelspec": {
      "name": "python3",
      "display_name": "Python 3"
    }
  },
  "cells": [
    {
      "cell_type": "markdown",
      "metadata": {
        "id": "_5vS9LQbcCL1"
      },
      "source": [
        "# Week 3 Assignment\n",
        "Take a look at the FEC data and do the following:\n",
        "\n",
        "\n",
        "1. Find three companies and look at if there are patterns in donations in two-week periods.\n",
        "2. Determine who donates first in those companies.\n",
        "3. See if you can find the political trends by zip code and compare how they match up to donations.\n",
        "4. Apply a linear regression model to try to determine if a boss donating to a party causes employees more/less likely to donate to the same party.\n",
        "5. See the party balance in Colorado.\n",
        "\n"
      ]
    },
    {
      "cell_type": "markdown",
      "metadata": {
        "id": "XvSSoMU5cHn2"
      },
      "source": [
        "## FEC Data"
      ]
    },
    {
      "cell_type": "code",
      "metadata": {
        "id": "Sk0Dj3-5by36",
        "outputId": "69a2d8d4-d635-4a0d-bd37-7b958ab8bee6",
        "colab": {
          "base_uri": "https://localhost:8080/",
          "height": 101
        }
      },
      "source": [
        "from google.colab import drive\n",
        "\n",
        "# Load in data\n",
        "drive.mount('/data/', force_remount = True)\n",
        "data_dir = '/data/My Drive/EMSE 6574/FEC dataset'\n",
        "!ls \"{data_dir}\""
      ],
      "execution_count": null,
      "outputs": [
        {
          "output_type": "stream",
          "text": [
            "Mounted at /data/\n",
            "ccl20.zip\t     cn20.zip\t\t    oppexp20.zip\n",
            "ccl_header_file.csv  cn_header_file.csv     pas220.zip\n",
            "cm20.zip\t     indiv20.zip\t    pas2_header_file.csv\n",
            "cm_header_file.csv   indiv_header_file.csv\n"
          ],
          "name": "stdout"
        }
      ]
    },
    {
      "cell_type": "code",
      "metadata": {
        "id": "Vn8KjpRpcWCj",
        "outputId": "a351c9be-cbcd-456e-99c1-8f221174720a",
        "colab": {
          "base_uri": "https://localhost:8080/",
          "height": 457
        }
      },
      "source": [
        "from zipfile import ZipFile\n",
        "import pandas as pd\n",
        "\n",
        "# Just load in 2020 data\n",
        "timeframes_of_interest = [\n",
        "    '20191230_20200130',\n",
        "    '20200131_20200219',\n",
        "    '20200220_20200305',\n",
        "    '20200306_20200330',\n",
        "    '20200331_20200426',\n",
        "    '20200427_20200516',\n",
        "    '20200517_20200603',\n",
        "    '20200603_20200617',\n",
        "    '20200618_20200629',\n",
        "    '20200630_20300630'\n",
        "]\n",
        "\n",
        "print('=====INDIVIDUAL CONTRIBUTIONS=====')\n",
        "print(f'Loading in indiv20 header file...', end = '')\n",
        "headers = pd.read_csv(f'{data_dir}/indiv_header_file.csv')\n",
        "print('done!')\n",
        "\n",
        "individual_contribs = pd.DataFrame()\n",
        "for timeframe in timeframes_of_interest:\n",
        "    print(f'Loading in {timeframe} TXT file...', end = '')\n",
        "    with ZipFile(f'{data_dir}/indiv20.zip') as zfile:\n",
        "        timeframe_df = pd.read_csv(\n",
        "            zfile.open(f'by_date/itcont_2020_{timeframe}.txt'),\n",
        "            sep = '|',\n",
        "            names = headers.columns\n",
        "        )\n",
        "\n",
        "        individual_contribs = individual_contribs.append(\n",
        "            timeframe_df, ignore_index = True\n",
        "        )\n",
        "\n",
        "        del timeframe_df\n",
        "    print('done!')\n",
        "\n",
        "print('=====COMMITTEE INFO=====')\n",
        "print('Loading in cm20 header file...', end = '')\n",
        "headers = pd.read_csv(f'{data_dir}/cm_header_file.csv')\n",
        "print('done!')\n",
        "\n",
        "print('Loading in committee TXT file...', end = '')\n",
        "with ZipFile(f'{data_dir}/cm20.zip') as zfile:\n",
        "    committees = pd.read_csv(\n",
        "        zfile.open('cm.txt'),\n",
        "        sep = '|',\n",
        "        names = headers.columns\n",
        "    )\n",
        "print('done!')"
      ],
      "execution_count": null,
      "outputs": [
        {
          "output_type": "stream",
          "text": [
            "=====INDIVIDUAL CONTRIBUTIONS=====\n",
            "Loading in indiv20 header file...done!\n",
            "Loading in 20191230_20200130 TXT file..."
          ],
          "name": "stdout"
        },
        {
          "output_type": "stream",
          "text": [
            "/usr/local/lib/python3.6/dist-packages/IPython/core/interactiveshell.py:2718: DtypeWarning: Columns (3,10,15,16,18,19) have mixed types.Specify dtype option on import or set low_memory=False.\n",
            "  interactivity=interactivity, compiler=compiler, result=result)\n"
          ],
          "name": "stderr"
        },
        {
          "output_type": "stream",
          "text": [
            "done!\n",
            "Loading in 20200131_20200219 TXT file..."
          ],
          "name": "stdout"
        },
        {
          "output_type": "stream",
          "text": [
            "/usr/local/lib/python3.6/dist-packages/IPython/core/interactiveshell.py:2718: DtypeWarning: Columns (10,16,18,19) have mixed types.Specify dtype option on import or set low_memory=False.\n",
            "  interactivity=interactivity, compiler=compiler, result=result)\n"
          ],
          "name": "stderr"
        },
        {
          "output_type": "stream",
          "text": [
            "done!\n",
            "Loading in 20200220_20200305 TXT file..."
          ],
          "name": "stdout"
        },
        {
          "output_type": "stream",
          "text": [
            "/usr/local/lib/python3.6/dist-packages/IPython/core/interactiveshell.py:2718: DtypeWarning: Columns (10,16,18) have mixed types.Specify dtype option on import or set low_memory=False.\n",
            "  interactivity=interactivity, compiler=compiler, result=result)\n"
          ],
          "name": "stderr"
        },
        {
          "output_type": "stream",
          "text": [
            "done!\n",
            "Loading in 20200306_20200330 TXT file...done!\n",
            "Loading in 20200331_20200426 TXT file...done!\n",
            "Loading in 20200427_20200516 TXT file..."
          ],
          "name": "stdout"
        },
        {
          "output_type": "stream",
          "text": [
            "/usr/local/lib/python3.6/dist-packages/IPython/core/interactiveshell.py:2718: DtypeWarning: Columns (10,18,19) have mixed types.Specify dtype option on import or set low_memory=False.\n",
            "  interactivity=interactivity, compiler=compiler, result=result)\n"
          ],
          "name": "stderr"
        },
        {
          "output_type": "stream",
          "text": [
            "done!\n",
            "Loading in 20200517_20200603 TXT file..."
          ],
          "name": "stdout"
        },
        {
          "output_type": "stream",
          "text": [
            "/usr/local/lib/python3.6/dist-packages/IPython/core/interactiveshell.py:2718: DtypeWarning: Columns (10,11,12,15,16,18,19) have mixed types.Specify dtype option on import or set low_memory=False.\n",
            "  interactivity=interactivity, compiler=compiler, result=result)\n"
          ],
          "name": "stderr"
        },
        {
          "output_type": "stream",
          "text": [
            "done!\n",
            "Loading in 20200603_20200617 TXT file...done!\n",
            "Loading in 20200618_20200629 TXT file...done!\n",
            "Loading in 20200630_20300630 TXT file...done!\n",
            "=====COMMITTEE INFO=====\n",
            "Loading in cm20 header file...done!\n",
            "Loading in committee TXT file...done!\n"
          ],
          "name": "stdout"
        }
      ]
    },
    {
      "cell_type": "code",
      "metadata": {
        "id": "p8HeLUuIq4RI",
        "outputId": "13d0c46c-4439-4f90-d2c4-bbf76212e562",
        "colab": {
          "base_uri": "https://localhost:8080/",
          "height": 400
        }
      },
      "source": [
        "individual_contribs.head()"
      ],
      "execution_count": null,
      "outputs": [
        {
          "output_type": "execute_result",
          "data": {
            "text/html": [
              "<div>\n",
              "<style scoped>\n",
              "    .dataframe tbody tr th:only-of-type {\n",
              "        vertical-align: middle;\n",
              "    }\n",
              "\n",
              "    .dataframe tbody tr th {\n",
              "        vertical-align: top;\n",
              "    }\n",
              "\n",
              "    .dataframe thead th {\n",
              "        text-align: right;\n",
              "    }\n",
              "</style>\n",
              "<table border=\"1\" class=\"dataframe\">\n",
              "  <thead>\n",
              "    <tr style=\"text-align: right;\">\n",
              "      <th></th>\n",
              "      <th>CMTE_ID</th>\n",
              "      <th>AMNDT_IND</th>\n",
              "      <th>RPT_TP</th>\n",
              "      <th>TRANSACTION_PGI</th>\n",
              "      <th>IMAGE_NUM</th>\n",
              "      <th>TRANSACTION_TP</th>\n",
              "      <th>ENTITY_TP</th>\n",
              "      <th>NAME</th>\n",
              "      <th>CITY</th>\n",
              "      <th>STATE</th>\n",
              "      <th>ZIP_CODE</th>\n",
              "      <th>EMPLOYER</th>\n",
              "      <th>OCCUPATION</th>\n",
              "      <th>TRANSACTION_DT</th>\n",
              "      <th>TRANSACTION_AMT</th>\n",
              "      <th>OTHER_ID</th>\n",
              "      <th>TRAN_ID</th>\n",
              "      <th>FILE_NUM</th>\n",
              "      <th>MEMO_CD</th>\n",
              "      <th>MEMO_TEXT</th>\n",
              "      <th>SUB_ID</th>\n",
              "    </tr>\n",
              "  </thead>\n",
              "  <tbody>\n",
              "    <tr>\n",
              "      <th>0</th>\n",
              "      <td>C00711317</td>\n",
              "      <td>A</td>\n",
              "      <td>YE</td>\n",
              "      <td>G2020</td>\n",
              "      <td>202007159250113501</td>\n",
              "      <td>15E</td>\n",
              "      <td>IND</td>\n",
              "      <td>HARDY, IAN</td>\n",
              "      <td>GRAND RAPIDS</td>\n",
              "      <td>MI</td>\n",
              "      <td>495062855</td>\n",
              "      <td>INDEXDATA</td>\n",
              "      <td>SYSTEMS ADMINISTRATOR</td>\n",
              "      <td>12312019</td>\n",
              "      <td>25</td>\n",
              "      <td>C00401224</td>\n",
              "      <td>VVC8RQGD1X7</td>\n",
              "      <td>1424901</td>\n",
              "      <td>NaN</td>\n",
              "      <td>* EARMARKED CONTRIBUTION: SEE BELOW</td>\n",
              "      <td>4080820201813425014</td>\n",
              "    </tr>\n",
              "    <tr>\n",
              "      <th>1</th>\n",
              "      <td>C00711317</td>\n",
              "      <td>A</td>\n",
              "      <td>YE</td>\n",
              "      <td>G2020</td>\n",
              "      <td>202007159250113503</td>\n",
              "      <td>15E</td>\n",
              "      <td>IND</td>\n",
              "      <td>HEERSPINK, JANICE</td>\n",
              "      <td>GRAND RAPIDS</td>\n",
              "      <td>MI</td>\n",
              "      <td>495467521</td>\n",
              "      <td>NOT EMPLOYED</td>\n",
              "      <td>NOT EMPLOYED</td>\n",
              "      <td>12312019</td>\n",
              "      <td>25</td>\n",
              "      <td>C00401224</td>\n",
              "      <td>VVC8RQGD1G6</td>\n",
              "      <td>1424901</td>\n",
              "      <td>NaN</td>\n",
              "      <td>* EARMARKED CONTRIBUTION: SEE BELOW</td>\n",
              "      <td>4080820201813425020</td>\n",
              "    </tr>\n",
              "    <tr>\n",
              "      <th>2</th>\n",
              "      <td>C00711317</td>\n",
              "      <td>A</td>\n",
              "      <td>YE</td>\n",
              "      <td>G2020</td>\n",
              "      <td>202007159250113508</td>\n",
              "      <td>15E</td>\n",
              "      <td>IND</td>\n",
              "      <td>HISKES, ANNE</td>\n",
              "      <td>GRAND RAPIDS</td>\n",
              "      <td>MI</td>\n",
              "      <td>495466408</td>\n",
              "      <td>GRAND VALLEY STATE UNIVERSITY</td>\n",
              "      <td>HIGHER EDUCATION ADMINISTRATION</td>\n",
              "      <td>12312019</td>\n",
              "      <td>50</td>\n",
              "      <td>C00401224</td>\n",
              "      <td>VVC8RQGD065</td>\n",
              "      <td>1424901</td>\n",
              "      <td>NaN</td>\n",
              "      <td>* EARMARKED CONTRIBUTION: SEE BELOW</td>\n",
              "      <td>4080820201813425035</td>\n",
              "    </tr>\n",
              "    <tr>\n",
              "      <th>3</th>\n",
              "      <td>C00711317</td>\n",
              "      <td>A</td>\n",
              "      <td>YE</td>\n",
              "      <td>G2020</td>\n",
              "      <td>202007159250113544</td>\n",
              "      <td>15E</td>\n",
              "      <td>IND</td>\n",
              "      <td>MACKINNON, ERICA</td>\n",
              "      <td>DETROIT</td>\n",
              "      <td>MI</td>\n",
              "      <td>482141896</td>\n",
              "      <td>YANKEE PEDDLER INC.</td>\n",
              "      <td>EXECUTIVE PRODUCER</td>\n",
              "      <td>12312019</td>\n",
              "      <td>350</td>\n",
              "      <td>C00401224</td>\n",
              "      <td>VVC8RQGD142</td>\n",
              "      <td>1424901</td>\n",
              "      <td>NaN</td>\n",
              "      <td>* EARMARKED CONTRIBUTION: SEE BELOW</td>\n",
              "      <td>4080820201813425141</td>\n",
              "    </tr>\n",
              "    <tr>\n",
              "      <th>4</th>\n",
              "      <td>C00711317</td>\n",
              "      <td>A</td>\n",
              "      <td>YE</td>\n",
              "      <td>G2020</td>\n",
              "      <td>202007159250113553</td>\n",
              "      <td>15E</td>\n",
              "      <td>IND</td>\n",
              "      <td>MOBLO, BRIE</td>\n",
              "      <td>GRAND RAPIDS</td>\n",
              "      <td>MI</td>\n",
              "      <td>495063222</td>\n",
              "      <td>SELF EMPLOYED</td>\n",
              "      <td>LABORER</td>\n",
              "      <td>12302019</td>\n",
              "      <td>25</td>\n",
              "      <td>C00401224</td>\n",
              "      <td>VVC8RQGD1Q0</td>\n",
              "      <td>1424901</td>\n",
              "      <td>NaN</td>\n",
              "      <td>* EARMARKED CONTRIBUTION: SEE BELOW</td>\n",
              "      <td>4080820201813425169</td>\n",
              "    </tr>\n",
              "  </tbody>\n",
              "</table>\n",
              "</div>"
            ],
            "text/plain": [
              "     CMTE_ID  ...               SUB_ID\n",
              "0  C00711317  ...  4080820201813425014\n",
              "1  C00711317  ...  4080820201813425020\n",
              "2  C00711317  ...  4080820201813425035\n",
              "3  C00711317  ...  4080820201813425141\n",
              "4  C00711317  ...  4080820201813425169\n",
              "\n",
              "[5 rows x 21 columns]"
            ]
          },
          "metadata": {
            "tags": []
          },
          "execution_count": 3
        }
      ]
    },
    {
      "cell_type": "markdown",
      "metadata": {
        "id": "2E2AO4UPqxTi"
      },
      "source": [
        "### Political Contributions by Companies\n",
        "\n",
        "Let's first take an overall look at the contributions by company for the 2020 period."
      ]
    },
    {
      "cell_type": "code",
      "metadata": {
        "id": "jGPRfRN6evmc",
        "outputId": "fc281b32-0be4-4f30-92d7-bf7e3f8b61ef",
        "colab": {
          "base_uri": "https://localhost:8080/",
          "height": 571
        }
      },
      "source": [
        "# Set row display options to show more than default\n",
        "pd.set_option('display.min_rows', 30)\n",
        "\n",
        "# First group by name and employer to get unique names and employers\n",
        "indiv_contrib_grp_1 = individual_contribs.groupby(['NAME', 'EMPLOYER'])['TRAN_ID'].count()\n",
        "\n",
        "# Reset index to get back \"NAME\" and \"EMPLOYER\" columns\n",
        "indiv_contrib_grp_1 = indiv_contrib_grp_1.reset_index()\n",
        "\n",
        "# Then group by employer to see how many people made a transaction in each employer\n",
        "indiv_contrib_grp_1.groupby('EMPLOYER')['NAME'].nunique().sort_values(ascending = False)"
      ],
      "execution_count": null,
      "outputs": [
        {
          "output_type": "execute_result",
          "data": {
            "text/plain": [
              "EMPLOYER\n",
              "RETIRED                                   417560\n",
              "NOT EMPLOYED                              321791\n",
              "SELF-EMPLOYED                             118690\n",
              "NONE                                      109677\n",
              "SELF                                       74478\n",
              "SELF EMPLOYED                              64630\n",
              "HOMEMAKER                                   9090\n",
              "ENTREPRENEUR                                5354\n",
              "FEDERAL AVIATION ADMINISTRATION             5184\n",
              "NOT-EMPLOYED                                4356\n",
              "LOCKHEED MARTIN                             3328\n",
              "BOEING                                      3239\n",
              "USPS                                        3178\n",
              "MICROSOFT                                   2963\n",
              "RAYTHEON COMPANY                            2815\n",
              "                                           ...  \n",
              "NORTHUMBERLAND NATIONAL BANK                   1\n",
              "NORTHUMC INDIANAPOLIS IN                       1\n",
              "NORTHUP GRUMAN                                 1\n",
              "NORTHUP GRUMMAN                                1\n",
              "NORTHVIEW CAPITAL                              1\n",
              "NORTHVIEW CHURCH                               1\n",
              "NORTHVIEW CO.                                  1\n",
              "NORTHVIEW MONTESSORI                           1\n",
              "NORTHVIEW SCHOOL                               1\n",
              "NORTHVILE, MI                                  1\n",
              "NORTHVILLE DISTRICT LIBRARY                    1\n",
              "NORTHVILLE MARKET                              1\n",
              "NORTHVILLE MARKET INC                          1\n",
              "NORTHVILLE PUBLIC SCHOOLS EARLY CHILDH         1\n",
              " LOUISIANA ENDOWMENT FOR THE HUMANITIE         1\n",
              "Name: NAME, Length: 542071, dtype: int64"
            ]
          },
          "metadata": {
            "tags": []
          },
          "execution_count": 4
        }
      ]
    },
    {
      "cell_type": "markdown",
      "metadata": {
        "id": "p-X_b66MlkyB"
      },
      "source": [
        "As we can see from the results above, some of the top companies with donations are the F.A.A., Lockheed Martin, and Boeing. Interesting that the top three are aviation-related agencies/companies. The fourth and fifth are the U.S.P.S. and Microsoft. Let's dig a little deeper and see if we can find some two-week spans where a bunch of employees from a single company donated."
      ]
    },
    {
      "cell_type": "markdown",
      "metadata": {
        "id": "WgkD2EutmUeK"
      },
      "source": [
        "### Two-Week Donation Patterns for Companies"
      ]
    },
    {
      "cell_type": "code",
      "metadata": {
        "id": "n4IpIbAsljz7",
        "outputId": "6f72a43a-2781-47bb-d982-617d90d3294c",
        "colab": {
          "base_uri": "https://localhost:8080/",
          "height": 400
        }
      },
      "source": [
        "# Convert \"TRANSACTION_DT\" column into datetime format\n",
        "individual_contribs['TRANSACTION_DT'] = pd.to_datetime(individual_contribs['TRANSACTION_DT'], format = '%m%d%Y')\n",
        "\n",
        "# Check new output\n",
        "display(individual_contribs.head())\n",
        "\n",
        "# Filter down to specific employers\n",
        "lockheed_martin_contribs = individual_contribs[individual_contribs['EMPLOYER'] == 'LOCKHEED MARTIN']\n",
        "boeing_contribs = individual_contribs[individual_contribs['EMPLOYER'] == 'BOEING']\n",
        "faa_contribs = individual_contribs[individual_contribs['EMPLOYER'] == 'FEDERAL AVIATION ADMINISTRATION']"
      ],
      "execution_count": null,
      "outputs": [
        {
          "output_type": "display_data",
          "data": {
            "text/html": [
              "<div>\n",
              "<style scoped>\n",
              "    .dataframe tbody tr th:only-of-type {\n",
              "        vertical-align: middle;\n",
              "    }\n",
              "\n",
              "    .dataframe tbody tr th {\n",
              "        vertical-align: top;\n",
              "    }\n",
              "\n",
              "    .dataframe thead th {\n",
              "        text-align: right;\n",
              "    }\n",
              "</style>\n",
              "<table border=\"1\" class=\"dataframe\">\n",
              "  <thead>\n",
              "    <tr style=\"text-align: right;\">\n",
              "      <th></th>\n",
              "      <th>CMTE_ID</th>\n",
              "      <th>AMNDT_IND</th>\n",
              "      <th>RPT_TP</th>\n",
              "      <th>TRANSACTION_PGI</th>\n",
              "      <th>IMAGE_NUM</th>\n",
              "      <th>TRANSACTION_TP</th>\n",
              "      <th>ENTITY_TP</th>\n",
              "      <th>NAME</th>\n",
              "      <th>CITY</th>\n",
              "      <th>STATE</th>\n",
              "      <th>ZIP_CODE</th>\n",
              "      <th>EMPLOYER</th>\n",
              "      <th>OCCUPATION</th>\n",
              "      <th>TRANSACTION_DT</th>\n",
              "      <th>TRANSACTION_AMT</th>\n",
              "      <th>OTHER_ID</th>\n",
              "      <th>TRAN_ID</th>\n",
              "      <th>FILE_NUM</th>\n",
              "      <th>MEMO_CD</th>\n",
              "      <th>MEMO_TEXT</th>\n",
              "      <th>SUB_ID</th>\n",
              "    </tr>\n",
              "  </thead>\n",
              "  <tbody>\n",
              "    <tr>\n",
              "      <th>0</th>\n",
              "      <td>C00711317</td>\n",
              "      <td>A</td>\n",
              "      <td>YE</td>\n",
              "      <td>G2020</td>\n",
              "      <td>202007159250113501</td>\n",
              "      <td>15E</td>\n",
              "      <td>IND</td>\n",
              "      <td>HARDY, IAN</td>\n",
              "      <td>GRAND RAPIDS</td>\n",
              "      <td>MI</td>\n",
              "      <td>495062855</td>\n",
              "      <td>INDEXDATA</td>\n",
              "      <td>SYSTEMS ADMINISTRATOR</td>\n",
              "      <td>2019-12-31</td>\n",
              "      <td>25</td>\n",
              "      <td>C00401224</td>\n",
              "      <td>VVC8RQGD1X7</td>\n",
              "      <td>1424901</td>\n",
              "      <td>NaN</td>\n",
              "      <td>* EARMARKED CONTRIBUTION: SEE BELOW</td>\n",
              "      <td>4080820201813425014</td>\n",
              "    </tr>\n",
              "    <tr>\n",
              "      <th>1</th>\n",
              "      <td>C00711317</td>\n",
              "      <td>A</td>\n",
              "      <td>YE</td>\n",
              "      <td>G2020</td>\n",
              "      <td>202007159250113503</td>\n",
              "      <td>15E</td>\n",
              "      <td>IND</td>\n",
              "      <td>HEERSPINK, JANICE</td>\n",
              "      <td>GRAND RAPIDS</td>\n",
              "      <td>MI</td>\n",
              "      <td>495467521</td>\n",
              "      <td>NOT EMPLOYED</td>\n",
              "      <td>NOT EMPLOYED</td>\n",
              "      <td>2019-12-31</td>\n",
              "      <td>25</td>\n",
              "      <td>C00401224</td>\n",
              "      <td>VVC8RQGD1G6</td>\n",
              "      <td>1424901</td>\n",
              "      <td>NaN</td>\n",
              "      <td>* EARMARKED CONTRIBUTION: SEE BELOW</td>\n",
              "      <td>4080820201813425020</td>\n",
              "    </tr>\n",
              "    <tr>\n",
              "      <th>2</th>\n",
              "      <td>C00711317</td>\n",
              "      <td>A</td>\n",
              "      <td>YE</td>\n",
              "      <td>G2020</td>\n",
              "      <td>202007159250113508</td>\n",
              "      <td>15E</td>\n",
              "      <td>IND</td>\n",
              "      <td>HISKES, ANNE</td>\n",
              "      <td>GRAND RAPIDS</td>\n",
              "      <td>MI</td>\n",
              "      <td>495466408</td>\n",
              "      <td>GRAND VALLEY STATE UNIVERSITY</td>\n",
              "      <td>HIGHER EDUCATION ADMINISTRATION</td>\n",
              "      <td>2019-12-31</td>\n",
              "      <td>50</td>\n",
              "      <td>C00401224</td>\n",
              "      <td>VVC8RQGD065</td>\n",
              "      <td>1424901</td>\n",
              "      <td>NaN</td>\n",
              "      <td>* EARMARKED CONTRIBUTION: SEE BELOW</td>\n",
              "      <td>4080820201813425035</td>\n",
              "    </tr>\n",
              "    <tr>\n",
              "      <th>3</th>\n",
              "      <td>C00711317</td>\n",
              "      <td>A</td>\n",
              "      <td>YE</td>\n",
              "      <td>G2020</td>\n",
              "      <td>202007159250113544</td>\n",
              "      <td>15E</td>\n",
              "      <td>IND</td>\n",
              "      <td>MACKINNON, ERICA</td>\n",
              "      <td>DETROIT</td>\n",
              "      <td>MI</td>\n",
              "      <td>482141896</td>\n",
              "      <td>YANKEE PEDDLER INC.</td>\n",
              "      <td>EXECUTIVE PRODUCER</td>\n",
              "      <td>2019-12-31</td>\n",
              "      <td>350</td>\n",
              "      <td>C00401224</td>\n",
              "      <td>VVC8RQGD142</td>\n",
              "      <td>1424901</td>\n",
              "      <td>NaN</td>\n",
              "      <td>* EARMARKED CONTRIBUTION: SEE BELOW</td>\n",
              "      <td>4080820201813425141</td>\n",
              "    </tr>\n",
              "    <tr>\n",
              "      <th>4</th>\n",
              "      <td>C00711317</td>\n",
              "      <td>A</td>\n",
              "      <td>YE</td>\n",
              "      <td>G2020</td>\n",
              "      <td>202007159250113553</td>\n",
              "      <td>15E</td>\n",
              "      <td>IND</td>\n",
              "      <td>MOBLO, BRIE</td>\n",
              "      <td>GRAND RAPIDS</td>\n",
              "      <td>MI</td>\n",
              "      <td>495063222</td>\n",
              "      <td>SELF EMPLOYED</td>\n",
              "      <td>LABORER</td>\n",
              "      <td>2019-12-30</td>\n",
              "      <td>25</td>\n",
              "      <td>C00401224</td>\n",
              "      <td>VVC8RQGD1Q0</td>\n",
              "      <td>1424901</td>\n",
              "      <td>NaN</td>\n",
              "      <td>* EARMARKED CONTRIBUTION: SEE BELOW</td>\n",
              "      <td>4080820201813425169</td>\n",
              "    </tr>\n",
              "  </tbody>\n",
              "</table>\n",
              "</div>"
            ],
            "text/plain": [
              "     CMTE_ID  ...               SUB_ID\n",
              "0  C00711317  ...  4080820201813425014\n",
              "1  C00711317  ...  4080820201813425020\n",
              "2  C00711317  ...  4080820201813425035\n",
              "3  C00711317  ...  4080820201813425141\n",
              "4  C00711317  ...  4080820201813425169\n",
              "\n",
              "[5 rows x 21 columns]"
            ]
          },
          "metadata": {
            "tags": []
          }
        }
      ]
    },
    {
      "cell_type": "markdown",
      "metadata": {
        "id": "WlI5wnmay4BP"
      },
      "source": [
        "We should use the `resample` method for DataFrames to count transactions in 14-day windows for each of the companies."
      ]
    },
    {
      "cell_type": "markdown",
      "metadata": {
        "id": "iQDjHOlKzuEY"
      },
      "source": [
        "#### Lockheed Martin\n",
        "The most contributions seem to have come in in the two-week period starting 12-30-2019 to 01-12-2020 with 2,616 unique people making contributions in that period."
      ]
    },
    {
      "cell_type": "code",
      "metadata": {
        "id": "AIAXR5QAxRM4",
        "outputId": "4b5b8101-38bc-47ee-a57e-474c41dc450e",
        "colab": {
          "base_uri": "https://localhost:8080/",
          "height": 470
        }
      },
      "source": [
        "# Lockheed Martin 14-day contribution counts\n",
        "lockheed_martin_contribs.set_index('TRANSACTION_DT').resample('14D')['NAME'].nunique()"
      ],
      "execution_count": null,
      "outputs": [
        {
          "output_type": "execute_result",
          "data": {
            "text/plain": [
              "TRANSACTION_DT\n",
              "2019-12-30    2616\n",
              "2020-01-13      13\n",
              "2020-01-27     378\n",
              "2020-02-10     138\n",
              "2020-02-24     971\n",
              "2020-03-09     131\n",
              "2020-03-23    1065\n",
              "2020-04-06      80\n",
              "2020-04-20    1342\n",
              "2020-05-04     102\n",
              "2020-05-18    1765\n",
              "2020-06-01     159\n",
              "2020-06-15     175\n",
              "2020-06-29    1769\n",
              "2020-07-13      64\n",
              "2020-07-27    1740\n",
              "2020-08-10       1\n",
              "2020-08-24       0\n",
              "2020-09-07       0\n",
              "2020-09-21      15\n",
              "2020-10-05      31\n",
              "2020-10-19       7\n",
              "2020-11-02      79\n",
              "2020-11-16       0\n",
              "2020-11-30     109\n",
              "Freq: 14D, Name: NAME, dtype: int64"
            ]
          },
          "metadata": {
            "tags": []
          },
          "execution_count": 6
        }
      ]
    },
    {
      "cell_type": "markdown",
      "metadata": {
        "id": "pgzp2-GiRqWi"
      },
      "source": [
        "#### Boeing\n",
        "For Boeing, contributions jump up starting 01-27-2020 and start climbing up towards a peak of 2,381 in the two-week period starting 06-29-2020."
      ]
    },
    {
      "cell_type": "code",
      "metadata": {
        "id": "F_0etul6zZ9i",
        "outputId": "6c51a0e9-8f4d-4abb-8c4b-08498e797fbf",
        "colab": {
          "base_uri": "https://localhost:8080/",
          "height": 470
        }
      },
      "source": [
        "# Boeing 14-day contribution counts\n",
        "boeing_contribs.set_index('TRANSACTION_DT').resample('14D')['NAME'].nunique()"
      ],
      "execution_count": null,
      "outputs": [
        {
          "output_type": "execute_result",
          "data": {
            "text/plain": [
              "TRANSACTION_DT\n",
              "2019-12-30     137\n",
              "2020-01-13      20\n",
              "2020-01-27     773\n",
              "2020-02-10     829\n",
              "2020-02-24    1287\n",
              "2020-03-09    1213\n",
              "2020-03-23    1181\n",
              "2020-04-06    1145\n",
              "2020-04-20    1245\n",
              "2020-05-04    1275\n",
              "2020-05-18    1994\n",
              "2020-06-01    2033\n",
              "2020-06-15    2017\n",
              "2020-06-29    2381\n",
              "2020-07-13    2292\n",
              "2020-07-27      79\n",
              "2020-08-10       1\n",
              "2020-08-24       0\n",
              "2020-09-07       0\n",
              "2020-09-21      35\n",
              "2020-10-05      65\n",
              "2020-10-19      17\n",
              "2020-11-02     140\n",
              "2020-11-16       0\n",
              "2020-11-30     389\n",
              "Freq: 14D, Name: NAME, dtype: int64"
            ]
          },
          "metadata": {
            "tags": []
          },
          "execution_count": 7
        }
      ]
    },
    {
      "cell_type": "markdown",
      "metadata": {
        "id": "EVuEyr5jRtKR"
      },
      "source": [
        "#### FAA\n",
        "The FAA has the majority of contributions at the beginning of the year like Lockheed Martin. 4,862 people made contributions in the two-week period starting on 12-30-2019."
      ]
    },
    {
      "cell_type": "code",
      "metadata": {
        "id": "qmNSR7k4zftR",
        "outputId": "e4ee4941-8c90-4a45-b1e7-0b6c06bc92a2",
        "colab": {
          "base_uri": "https://localhost:8080/",
          "height": 470
        }
      },
      "source": [
        "# FAA 14-day contribution counts by unique person\n",
        "faa_contribs.set_index('TRANSACTION_DT').resample('14D')['NAME'].nunique()"
      ],
      "execution_count": null,
      "outputs": [
        {
          "output_type": "execute_result",
          "data": {
            "text/plain": [
              "TRANSACTION_DT\n",
              "2019-12-30    4862\n",
              "2020-01-13       1\n",
              "2020-01-27     251\n",
              "2020-02-10      24\n",
              "2020-02-24     717\n",
              "2020-03-09      14\n",
              "2020-03-23    1630\n",
              "2020-04-06       7\n",
              "2020-04-20    1875\n",
              "2020-05-04      10\n",
              "2020-05-18    2592\n",
              "2020-06-01      13\n",
              "2020-06-15      17\n",
              "2020-06-29    3152\n",
              "2020-07-13       7\n",
              "2020-07-27    3453\n",
              "2020-08-10       0\n",
              "2020-08-24       0\n",
              "2020-09-07       0\n",
              "2020-09-21       0\n",
              "2020-10-05       3\n",
              "2020-10-19       1\n",
              "2020-11-02      11\n",
              "2020-11-16       0\n",
              "2020-11-30      19\n",
              "Freq: 14D, Name: NAME, dtype: int64"
            ]
          },
          "metadata": {
            "tags": []
          },
          "execution_count": 8
        }
      ]
    },
    {
      "cell_type": "markdown",
      "metadata": {
        "id": "C9BLYNKq1tck"
      },
      "source": [
        "### Who Donates First: Boss or Employee?\n",
        "Let's now take a look at if there's a pattern between when a high-level executive donates to a political campaign and when employees of the same company donate to a campaign. We focus particularly on Lockheed Martin and Boeing since both are private-sector companies."
      ]
    },
    {
      "cell_type": "markdown",
      "metadata": {
        "id": "VMuKGlv_3SVk"
      },
      "source": [
        "#### Lockheed Martin"
      ]
    },
    {
      "cell_type": "code",
      "metadata": {
        "id": "cEZTVYBezmH2",
        "outputId": "f1c80e94-37df-4f16-f3fa-6b0d925decaa",
        "colab": {
          "base_uri": "https://localhost:8080/",
          "height": 396
        }
      },
      "source": [
        "# Select the two-week time period we see the highest contributions\n",
        "lockheed_martin_max_contribs = lockheed_martin_contribs.set_index('TRANSACTION_DT').loc['2019-12-30':'2020-01-12']\n",
        "lockheed_martin_max_contribs.head()"
      ],
      "execution_count": null,
      "outputs": [
        {
          "output_type": "execute_result",
          "data": {
            "text/html": [
              "<div>\n",
              "<style scoped>\n",
              "    .dataframe tbody tr th:only-of-type {\n",
              "        vertical-align: middle;\n",
              "    }\n",
              "\n",
              "    .dataframe tbody tr th {\n",
              "        vertical-align: top;\n",
              "    }\n",
              "\n",
              "    .dataframe thead th {\n",
              "        text-align: right;\n",
              "    }\n",
              "</style>\n",
              "<table border=\"1\" class=\"dataframe\">\n",
              "  <thead>\n",
              "    <tr style=\"text-align: right;\">\n",
              "      <th></th>\n",
              "      <th>CMTE_ID</th>\n",
              "      <th>AMNDT_IND</th>\n",
              "      <th>RPT_TP</th>\n",
              "      <th>TRANSACTION_PGI</th>\n",
              "      <th>IMAGE_NUM</th>\n",
              "      <th>TRANSACTION_TP</th>\n",
              "      <th>ENTITY_TP</th>\n",
              "      <th>NAME</th>\n",
              "      <th>CITY</th>\n",
              "      <th>STATE</th>\n",
              "      <th>ZIP_CODE</th>\n",
              "      <th>EMPLOYER</th>\n",
              "      <th>OCCUPATION</th>\n",
              "      <th>TRANSACTION_AMT</th>\n",
              "      <th>OTHER_ID</th>\n",
              "      <th>TRAN_ID</th>\n",
              "      <th>FILE_NUM</th>\n",
              "      <th>MEMO_CD</th>\n",
              "      <th>MEMO_TEXT</th>\n",
              "      <th>SUB_ID</th>\n",
              "    </tr>\n",
              "    <tr>\n",
              "      <th>TRANSACTION_DT</th>\n",
              "      <th></th>\n",
              "      <th></th>\n",
              "      <th></th>\n",
              "      <th></th>\n",
              "      <th></th>\n",
              "      <th></th>\n",
              "      <th></th>\n",
              "      <th></th>\n",
              "      <th></th>\n",
              "      <th></th>\n",
              "      <th></th>\n",
              "      <th></th>\n",
              "      <th></th>\n",
              "      <th></th>\n",
              "      <th></th>\n",
              "      <th></th>\n",
              "      <th></th>\n",
              "      <th></th>\n",
              "      <th></th>\n",
              "      <th></th>\n",
              "    </tr>\n",
              "  </thead>\n",
              "  <tbody>\n",
              "    <tr>\n",
              "      <th>2019-12-31</th>\n",
              "      <td>C00010603</td>\n",
              "      <td>A</td>\n",
              "      <td>YE</td>\n",
              "      <td>G2019</td>\n",
              "      <td>202004279232322993</td>\n",
              "      <td>15E</td>\n",
              "      <td>IND</td>\n",
              "      <td>HOEFT, ROBERT</td>\n",
              "      <td>ORLANDO</td>\n",
              "      <td>FL</td>\n",
              "      <td>328690575</td>\n",
              "      <td>LOCKHEED MARTIN</td>\n",
              "      <td>ENGINEER</td>\n",
              "      <td>250</td>\n",
              "      <td>NaN</td>\n",
              "      <td>34399264</td>\n",
              "      <td>1403611</td>\n",
              "      <td>NaN</td>\n",
              "      <td>* EARMARKED CONTRIBUTION: SEE BELOW</td>\n",
              "      <td>4050420201741684254</td>\n",
              "    </tr>\n",
              "    <tr>\n",
              "      <th>2019-12-31</th>\n",
              "      <td>C00010603</td>\n",
              "      <td>A</td>\n",
              "      <td>YE</td>\n",
              "      <td>G2019</td>\n",
              "      <td>202004279232325846</td>\n",
              "      <td>15E</td>\n",
              "      <td>IND</td>\n",
              "      <td>PALMER, WILLIAM</td>\n",
              "      <td>DURHAM</td>\n",
              "      <td>NC</td>\n",
              "      <td>277055813</td>\n",
              "      <td>LOCKHEED MARTIN</td>\n",
              "      <td>TECHNICAL DIRECTOR</td>\n",
              "      <td>500</td>\n",
              "      <td>NaN</td>\n",
              "      <td>34403053</td>\n",
              "      <td>1403611</td>\n",
              "      <td>NaN</td>\n",
              "      <td>* EARMARKED CONTRIBUTION: SEE BELOW</td>\n",
              "      <td>4050420201741692813</td>\n",
              "    </tr>\n",
              "    <tr>\n",
              "      <th>2019-12-31</th>\n",
              "      <td>C00161786</td>\n",
              "      <td>A</td>\n",
              "      <td>YE</td>\n",
              "      <td>P</td>\n",
              "      <td>202006199240081356</td>\n",
              "      <td>15E</td>\n",
              "      <td>IND</td>\n",
              "      <td>PEPPER, ALAN</td>\n",
              "      <td>WHEAT RIDGE</td>\n",
              "      <td>CO</td>\n",
              "      <td>80033</td>\n",
              "      <td>LOCKHEED MARTIN</td>\n",
              "      <td>TECHNICIAN</td>\n",
              "      <td>25</td>\n",
              "      <td>C00401224</td>\n",
              "      <td>11AI-000281310</td>\n",
              "      <td>1413838</td>\n",
              "      <td>NaN</td>\n",
              "      <td>EARMARKED THROUGH ACT BLUE</td>\n",
              "      <td>4062220201776499724</td>\n",
              "    </tr>\n",
              "    <tr>\n",
              "      <th>2019-12-31</th>\n",
              "      <td>C00618371</td>\n",
              "      <td>A</td>\n",
              "      <td>YE</td>\n",
              "      <td>P</td>\n",
              "      <td>202007289261029563</td>\n",
              "      <td>15E</td>\n",
              "      <td>IND</td>\n",
              "      <td>GEBHARDT, MATT</td>\n",
              "      <td>COLORADO SPRINGS</td>\n",
              "      <td>CO</td>\n",
              "      <td>80920</td>\n",
              "      <td>LOCKHEED MARTIN</td>\n",
              "      <td>ENGINEER</td>\n",
              "      <td>200</td>\n",
              "      <td>NaN</td>\n",
              "      <td>SA11AI.251725</td>\n",
              "      <td>1429032</td>\n",
              "      <td>NaN</td>\n",
              "      <td>NaN</td>\n",
              "      <td>4080420201811600730</td>\n",
              "    </tr>\n",
              "    <tr>\n",
              "      <th>2019-12-30</th>\n",
              "      <td>C00696948</td>\n",
              "      <td>A</td>\n",
              "      <td>YE</td>\n",
              "      <td>P2020</td>\n",
              "      <td>202003309216048191</td>\n",
              "      <td>15E</td>\n",
              "      <td>IND</td>\n",
              "      <td>BADOLATO, CHRISTIAN</td>\n",
              "      <td>ABINGDON</td>\n",
              "      <td>MD</td>\n",
              "      <td>210091656</td>\n",
              "      <td>LOCKHEED MARTIN</td>\n",
              "      <td>SOFTWARE ENGINEER</td>\n",
              "      <td>2</td>\n",
              "      <td>C00401224</td>\n",
              "      <td>15130571</td>\n",
              "      <td>1392261</td>\n",
              "      <td>NaN</td>\n",
              "      <td>* EARMARKED CONTRIBUTION: SEE BELOW</td>\n",
              "      <td>4041420201735699230</td>\n",
              "    </tr>\n",
              "  </tbody>\n",
              "</table>\n",
              "</div>"
            ],
            "text/plain": [
              "                  CMTE_ID  ...               SUB_ID\n",
              "TRANSACTION_DT             ...                     \n",
              "2019-12-31      C00010603  ...  4050420201741684254\n",
              "2019-12-31      C00010603  ...  4050420201741692813\n",
              "2019-12-31      C00161786  ...  4062220201776499724\n",
              "2019-12-31      C00618371  ...  4080420201811600730\n",
              "2019-12-30      C00696948  ...  4041420201735699230\n",
              "\n",
              "[5 rows x 20 columns]"
            ]
          },
          "metadata": {
            "tags": []
          },
          "execution_count": 9
        }
      ]
    },
    {
      "cell_type": "code",
      "metadata": {
        "id": "XrKdHkz42pQx",
        "outputId": "659e85a3-047f-42c5-ee04-f337dfad846e",
        "colab": {
          "base_uri": "https://localhost:8080/",
          "height": 257
        }
      },
      "source": [
        "# What dates are executives making donations?\n",
        "lockheed_martin_max_contribs[lockheed_martin_max_contribs['OCCUPATION'].str.lower().str.contains('ceo')]"
      ],
      "execution_count": null,
      "outputs": [
        {
          "output_type": "execute_result",
          "data": {
            "text/html": [
              "<div>\n",
              "<style scoped>\n",
              "    .dataframe tbody tr th:only-of-type {\n",
              "        vertical-align: middle;\n",
              "    }\n",
              "\n",
              "    .dataframe tbody tr th {\n",
              "        vertical-align: top;\n",
              "    }\n",
              "\n",
              "    .dataframe thead th {\n",
              "        text-align: right;\n",
              "    }\n",
              "</style>\n",
              "<table border=\"1\" class=\"dataframe\">\n",
              "  <thead>\n",
              "    <tr style=\"text-align: right;\">\n",
              "      <th></th>\n",
              "      <th>CMTE_ID</th>\n",
              "      <th>AMNDT_IND</th>\n",
              "      <th>RPT_TP</th>\n",
              "      <th>TRANSACTION_PGI</th>\n",
              "      <th>IMAGE_NUM</th>\n",
              "      <th>TRANSACTION_TP</th>\n",
              "      <th>ENTITY_TP</th>\n",
              "      <th>NAME</th>\n",
              "      <th>CITY</th>\n",
              "      <th>STATE</th>\n",
              "      <th>ZIP_CODE</th>\n",
              "      <th>EMPLOYER</th>\n",
              "      <th>OCCUPATION</th>\n",
              "      <th>TRANSACTION_AMT</th>\n",
              "      <th>OTHER_ID</th>\n",
              "      <th>TRAN_ID</th>\n",
              "      <th>FILE_NUM</th>\n",
              "      <th>MEMO_CD</th>\n",
              "      <th>MEMO_TEXT</th>\n",
              "      <th>SUB_ID</th>\n",
              "    </tr>\n",
              "    <tr>\n",
              "      <th>TRANSACTION_DT</th>\n",
              "      <th></th>\n",
              "      <th></th>\n",
              "      <th></th>\n",
              "      <th></th>\n",
              "      <th></th>\n",
              "      <th></th>\n",
              "      <th></th>\n",
              "      <th></th>\n",
              "      <th></th>\n",
              "      <th></th>\n",
              "      <th></th>\n",
              "      <th></th>\n",
              "      <th></th>\n",
              "      <th></th>\n",
              "      <th></th>\n",
              "      <th></th>\n",
              "      <th></th>\n",
              "      <th></th>\n",
              "      <th></th>\n",
              "      <th></th>\n",
              "    </tr>\n",
              "  </thead>\n",
              "  <tbody>\n",
              "    <tr>\n",
              "      <th>2019-12-31</th>\n",
              "      <td>C00303024</td>\n",
              "      <td>N</td>\n",
              "      <td>YE</td>\n",
              "      <td>P</td>\n",
              "      <td>202001289167423783</td>\n",
              "      <td>15</td>\n",
              "      <td>IND</td>\n",
              "      <td>LEVIN, LON C</td>\n",
              "      <td>ARLINGTON</td>\n",
              "      <td>VA</td>\n",
              "      <td>222024135</td>\n",
              "      <td>LOCKHEED MARTIN</td>\n",
              "      <td>PRESIDENT &amp; CEO  GEOSHARE</td>\n",
              "      <td>200</td>\n",
              "      <td>NaN</td>\n",
              "      <td>PR2361125168602</td>\n",
              "      <td>1374104</td>\n",
              "      <td>NaN</td>\n",
              "      <td>P/R DEDUCTION ($50.00 WEEKLY)</td>\n",
              "      <td>4012920201686061377</td>\n",
              "    </tr>\n",
              "    <tr>\n",
              "      <th>2019-12-31</th>\n",
              "      <td>C00303024</td>\n",
              "      <td>N</td>\n",
              "      <td>YE</td>\n",
              "      <td>P</td>\n",
              "      <td>202001289167424251</td>\n",
              "      <td>15</td>\n",
              "      <td>IND</td>\n",
              "      <td>HEWSON, MARILLYN ADAMS</td>\n",
              "      <td>BETHESDA</td>\n",
              "      <td>MD</td>\n",
              "      <td>208171803</td>\n",
              "      <td>LOCKHEED MARTIN</td>\n",
              "      <td>CHAIRMAN  PRESIDENT AND CEO</td>\n",
              "      <td>384</td>\n",
              "      <td>NaN</td>\n",
              "      <td>PR372557368602</td>\n",
              "      <td>1374104</td>\n",
              "      <td>NaN</td>\n",
              "      <td>P/R DEDUCTION ($96.15 WEEKLY)</td>\n",
              "      <td>4012920201686062782</td>\n",
              "    </tr>\n",
              "  </tbody>\n",
              "</table>\n",
              "</div>"
            ],
            "text/plain": [
              "                  CMTE_ID  ...               SUB_ID\n",
              "TRANSACTION_DT             ...                     \n",
              "2019-12-31      C00303024  ...  4012920201686061377\n",
              "2019-12-31      C00303024  ...  4012920201686062782\n",
              "\n",
              "[2 rows x 20 columns]"
            ]
          },
          "metadata": {
            "tags": []
          },
          "execution_count": 10
        }
      ]
    },
    {
      "cell_type": "code",
      "metadata": {
        "id": "WSSuiFfy3aqO",
        "outputId": "ef342806-e38a-45a6-b5e3-f0976ae10a7b",
        "colab": {
          "base_uri": "https://localhost:8080/",
          "height": 50
        }
      },
      "source": [
        "# How many contributions happened before/after 12-31-2019?\n",
        "print(f'{lockheed_martin_max_contribs.loc[\"2019-12-30\"].shape[0]} transactions happened before 12-31-2019.')\n",
        "print(f'{lockheed_martin_max_contribs.loc[\"2019-12-31\":].shape[0]} transactions happened on or after 12-31-2019.')"
      ],
      "execution_count": null,
      "outputs": [
        {
          "output_type": "stream",
          "text": [
            "64 transactions happened before 12-31-2019.\n",
            "2637 transactions happened on or after 12-31-2019.\n"
          ],
          "name": "stdout"
        }
      ]
    },
    {
      "cell_type": "markdown",
      "metadata": {
        "id": "dlAuwjfx5h0L"
      },
      "source": [
        "It looks like after the CEO of Lockheed Martin donated money, a bunch of contributions came afterwards in that two-week period."
      ]
    },
    {
      "cell_type": "markdown",
      "metadata": {
        "id": "mzXdJccn4GkE"
      },
      "source": [
        "#### Boeing"
      ]
    },
    {
      "cell_type": "code",
      "metadata": {
        "id": "sUknzY414JOo",
        "outputId": "08f7d5b1-5308-43f5-c6a0-cf8497b10d25",
        "colab": {
          "base_uri": "https://localhost:8080/",
          "height": 329
        }
      },
      "source": [
        "# Select the two-week time period we see the highest contributions\n",
        "boeing_max_contribs = boeing_contribs.set_index('TRANSACTION_DT').loc['2020-06-29':'2020-07-12']\n",
        "boeing_max_contribs.head()"
      ],
      "execution_count": null,
      "outputs": [
        {
          "output_type": "execute_result",
          "data": {
            "text/html": [
              "<div>\n",
              "<style scoped>\n",
              "    .dataframe tbody tr th:only-of-type {\n",
              "        vertical-align: middle;\n",
              "    }\n",
              "\n",
              "    .dataframe tbody tr th {\n",
              "        vertical-align: top;\n",
              "    }\n",
              "\n",
              "    .dataframe thead th {\n",
              "        text-align: right;\n",
              "    }\n",
              "</style>\n",
              "<table border=\"1\" class=\"dataframe\">\n",
              "  <thead>\n",
              "    <tr style=\"text-align: right;\">\n",
              "      <th></th>\n",
              "      <th>CMTE_ID</th>\n",
              "      <th>AMNDT_IND</th>\n",
              "      <th>RPT_TP</th>\n",
              "      <th>TRANSACTION_PGI</th>\n",
              "      <th>IMAGE_NUM</th>\n",
              "      <th>TRANSACTION_TP</th>\n",
              "      <th>ENTITY_TP</th>\n",
              "      <th>NAME</th>\n",
              "      <th>CITY</th>\n",
              "      <th>STATE</th>\n",
              "      <th>ZIP_CODE</th>\n",
              "      <th>EMPLOYER</th>\n",
              "      <th>OCCUPATION</th>\n",
              "      <th>TRANSACTION_AMT</th>\n",
              "      <th>OTHER_ID</th>\n",
              "      <th>TRAN_ID</th>\n",
              "      <th>FILE_NUM</th>\n",
              "      <th>MEMO_CD</th>\n",
              "      <th>MEMO_TEXT</th>\n",
              "      <th>SUB_ID</th>\n",
              "    </tr>\n",
              "    <tr>\n",
              "      <th>TRANSACTION_DT</th>\n",
              "      <th></th>\n",
              "      <th></th>\n",
              "      <th></th>\n",
              "      <th></th>\n",
              "      <th></th>\n",
              "      <th></th>\n",
              "      <th></th>\n",
              "      <th></th>\n",
              "      <th></th>\n",
              "      <th></th>\n",
              "      <th></th>\n",
              "      <th></th>\n",
              "      <th></th>\n",
              "      <th></th>\n",
              "      <th></th>\n",
              "      <th></th>\n",
              "      <th></th>\n",
              "      <th></th>\n",
              "      <th></th>\n",
              "      <th></th>\n",
              "    </tr>\n",
              "  </thead>\n",
              "  <tbody>\n",
              "    <tr>\n",
              "      <th>2020-06-29</th>\n",
              "      <td>C00580100</td>\n",
              "      <td>A</td>\n",
              "      <td>M7</td>\n",
              "      <td>P2020</td>\n",
              "      <td>202008209266205995</td>\n",
              "      <td>15E</td>\n",
              "      <td>IND</td>\n",
              "      <td>DORN, RONALD</td>\n",
              "      <td>O FALLON</td>\n",
              "      <td>MO</td>\n",
              "      <td>63366</td>\n",
              "      <td>BOEING</td>\n",
              "      <td>SALES</td>\n",
              "      <td>25</td>\n",
              "      <td>NaN</td>\n",
              "      <td>SA17A.248163</td>\n",
              "      <td>1434616</td>\n",
              "      <td>NaN</td>\n",
              "      <td>NaN</td>\n",
              "      <td>4090120201831755796</td>\n",
              "    </tr>\n",
              "    <tr>\n",
              "      <th>2020-06-29</th>\n",
              "      <td>C00580100</td>\n",
              "      <td>A</td>\n",
              "      <td>M7</td>\n",
              "      <td>P2020</td>\n",
              "      <td>202008209266201168</td>\n",
              "      <td>15E</td>\n",
              "      <td>IND</td>\n",
              "      <td>CORNWELL, DONALD</td>\n",
              "      <td>SAINT PETERS</td>\n",
              "      <td>MO</td>\n",
              "      <td>63376</td>\n",
              "      <td>BOEING</td>\n",
              "      <td>TEST ENGINEER</td>\n",
              "      <td>25</td>\n",
              "      <td>NaN</td>\n",
              "      <td>SA17A.206781</td>\n",
              "      <td>1434616</td>\n",
              "      <td>NaN</td>\n",
              "      <td>NaN</td>\n",
              "      <td>4090120201831741314</td>\n",
              "    </tr>\n",
              "    <tr>\n",
              "      <th>2020-06-29</th>\n",
              "      <td>C00580100</td>\n",
              "      <td>A</td>\n",
              "      <td>M7</td>\n",
              "      <td>P2020</td>\n",
              "      <td>202008209266201168</td>\n",
              "      <td>15E</td>\n",
              "      <td>IND</td>\n",
              "      <td>CORNWELL, DONALD</td>\n",
              "      <td>SAINT PETERS</td>\n",
              "      <td>MO</td>\n",
              "      <td>63376</td>\n",
              "      <td>BOEING</td>\n",
              "      <td>TEST ENGINEER</td>\n",
              "      <td>100</td>\n",
              "      <td>NaN</td>\n",
              "      <td>SA17A.206780</td>\n",
              "      <td>1434616</td>\n",
              "      <td>NaN</td>\n",
              "      <td>NaN</td>\n",
              "      <td>4090120201831741313</td>\n",
              "    </tr>\n",
              "    <tr>\n",
              "      <th>2020-06-29</th>\n",
              "      <td>C00580100</td>\n",
              "      <td>A</td>\n",
              "      <td>M7</td>\n",
              "      <td>P2020</td>\n",
              "      <td>202008209266270301</td>\n",
              "      <td>15E</td>\n",
              "      <td>IND</td>\n",
              "      <td>WHITENER, DAVID</td>\n",
              "      <td>HUNTINGTON BEACH</td>\n",
              "      <td>CA</td>\n",
              "      <td>92646</td>\n",
              "      <td>BOEING</td>\n",
              "      <td>MECHANIC</td>\n",
              "      <td>50</td>\n",
              "      <td>NaN</td>\n",
              "      <td>SA17A.350187</td>\n",
              "      <td>1434616</td>\n",
              "      <td>NaN</td>\n",
              "      <td>NaN</td>\n",
              "      <td>4090120201831951712</td>\n",
              "    </tr>\n",
              "    <tr>\n",
              "      <th>2020-06-29</th>\n",
              "      <td>C00580100</td>\n",
              "      <td>A</td>\n",
              "      <td>M7</td>\n",
              "      <td>P2020</td>\n",
              "      <td>202008209266267842</td>\n",
              "      <td>15E</td>\n",
              "      <td>IND</td>\n",
              "      <td>W, GLEN</td>\n",
              "      <td>PORT HUENEME</td>\n",
              "      <td>CA</td>\n",
              "      <td>93041</td>\n",
              "      <td>BOEING</td>\n",
              "      <td>ENGINEER</td>\n",
              "      <td>25</td>\n",
              "      <td>NaN</td>\n",
              "      <td>SA17A.439386</td>\n",
              "      <td>1434616</td>\n",
              "      <td>NaN</td>\n",
              "      <td>NaN</td>\n",
              "      <td>4090120201831943335</td>\n",
              "    </tr>\n",
              "  </tbody>\n",
              "</table>\n",
              "</div>"
            ],
            "text/plain": [
              "                  CMTE_ID AMNDT_IND  ... MEMO_TEXT               SUB_ID\n",
              "TRANSACTION_DT                       ...                               \n",
              "2020-06-29      C00580100         A  ...       NaN  4090120201831755796\n",
              "2020-06-29      C00580100         A  ...       NaN  4090120201831741314\n",
              "2020-06-29      C00580100         A  ...       NaN  4090120201831741313\n",
              "2020-06-29      C00580100         A  ...       NaN  4090120201831951712\n",
              "2020-06-29      C00580100         A  ...       NaN  4090120201831943335\n",
              "\n",
              "[5 rows x 20 columns]"
            ]
          },
          "metadata": {
            "tags": []
          },
          "execution_count": 12
        }
      ]
    },
    {
      "cell_type": "code",
      "metadata": {
        "id": "eFb4Kmvk4JOr",
        "outputId": "47baf18e-e09b-4ba3-92ba-9f61fa0981ce",
        "colab": {
          "base_uri": "https://localhost:8080/",
          "height": 337
        }
      },
      "source": [
        "# What dates are executives making donations?\n",
        "boeing_max_contribs = boeing_max_contribs.fillna('')\n",
        "boeing_max_contribs[boeing_max_contribs['OCCUPATION'].str.lower().str.contains('ceo')]"
      ],
      "execution_count": null,
      "outputs": [
        {
          "output_type": "execute_result",
          "data": {
            "text/html": [
              "<div>\n",
              "<style scoped>\n",
              "    .dataframe tbody tr th:only-of-type {\n",
              "        vertical-align: middle;\n",
              "    }\n",
              "\n",
              "    .dataframe tbody tr th {\n",
              "        vertical-align: top;\n",
              "    }\n",
              "\n",
              "    .dataframe thead th {\n",
              "        text-align: right;\n",
              "    }\n",
              "</style>\n",
              "<table border=\"1\" class=\"dataframe\">\n",
              "  <thead>\n",
              "    <tr style=\"text-align: right;\">\n",
              "      <th></th>\n",
              "      <th>CMTE_ID</th>\n",
              "      <th>AMNDT_IND</th>\n",
              "      <th>RPT_TP</th>\n",
              "      <th>TRANSACTION_PGI</th>\n",
              "      <th>IMAGE_NUM</th>\n",
              "      <th>TRANSACTION_TP</th>\n",
              "      <th>ENTITY_TP</th>\n",
              "      <th>NAME</th>\n",
              "      <th>CITY</th>\n",
              "      <th>STATE</th>\n",
              "      <th>ZIP_CODE</th>\n",
              "      <th>EMPLOYER</th>\n",
              "      <th>OCCUPATION</th>\n",
              "      <th>TRANSACTION_AMT</th>\n",
              "      <th>OTHER_ID</th>\n",
              "      <th>TRAN_ID</th>\n",
              "      <th>FILE_NUM</th>\n",
              "      <th>MEMO_CD</th>\n",
              "      <th>MEMO_TEXT</th>\n",
              "      <th>SUB_ID</th>\n",
              "    </tr>\n",
              "    <tr>\n",
              "      <th>TRANSACTION_DT</th>\n",
              "      <th></th>\n",
              "      <th></th>\n",
              "      <th></th>\n",
              "      <th></th>\n",
              "      <th></th>\n",
              "      <th></th>\n",
              "      <th></th>\n",
              "      <th></th>\n",
              "      <th></th>\n",
              "      <th></th>\n",
              "      <th></th>\n",
              "      <th></th>\n",
              "      <th></th>\n",
              "      <th></th>\n",
              "      <th></th>\n",
              "      <th></th>\n",
              "      <th></th>\n",
              "      <th></th>\n",
              "      <th></th>\n",
              "      <th></th>\n",
              "    </tr>\n",
              "  </thead>\n",
              "  <tbody>\n",
              "    <tr>\n",
              "      <th>2020-07-09</th>\n",
              "      <td>C00142711</td>\n",
              "      <td>N</td>\n",
              "      <td>M8</td>\n",
              "      <td>P</td>\n",
              "      <td>202008179261329374</td>\n",
              "      <td>15</td>\n",
              "      <td>IND</td>\n",
              "      <td>CARET, LEANNE</td>\n",
              "      <td>ARLINGTON</td>\n",
              "      <td>VA</td>\n",
              "      <td>22202</td>\n",
              "      <td>BOEING</td>\n",
              "      <td>EVP &amp; CEO-PROGRAM MANAGEMENT EXECUTIVE</td>\n",
              "      <td>200</td>\n",
              "      <td></td>\n",
              "      <td>2020070716135-452</td>\n",
              "      <td>1432738</td>\n",
              "      <td></td>\n",
              "      <td></td>\n",
              "      <td>4082920201831179940</td>\n",
              "    </tr>\n",
              "    <tr>\n",
              "      <th>2020-07-09</th>\n",
              "      <td>C00142711</td>\n",
              "      <td>N</td>\n",
              "      <td>M8</td>\n",
              "      <td>P</td>\n",
              "      <td>202008179261329498</td>\n",
              "      <td>15</td>\n",
              "      <td>IND</td>\n",
              "      <td>DEAL, STANLEY</td>\n",
              "      <td>ARLINGTON</td>\n",
              "      <td>VA</td>\n",
              "      <td>22202</td>\n",
              "      <td>BOEING</td>\n",
              "      <td>EVP &amp; CEO-PROGRAM MANAGEMENT EXECUTIVE</td>\n",
              "      <td>200</td>\n",
              "      <td></td>\n",
              "      <td>2020070716135-1976</td>\n",
              "      <td>1432738</td>\n",
              "      <td></td>\n",
              "      <td></td>\n",
              "      <td>4082920201831180312</td>\n",
              "    </tr>\n",
              "    <tr>\n",
              "      <th>2020-07-09</th>\n",
              "      <td>C00142711</td>\n",
              "      <td>N</td>\n",
              "      <td>M8</td>\n",
              "      <td>P</td>\n",
              "      <td>202008179261329435</td>\n",
              "      <td>15</td>\n",
              "      <td>IND</td>\n",
              "      <td>COLBERT, THEODORE III</td>\n",
              "      <td>ARLINGTON</td>\n",
              "      <td>VA</td>\n",
              "      <td>22202</td>\n",
              "      <td>BOEING</td>\n",
              "      <td>EVP &amp; CEO-PROGRAM MANAGEMENT EXECUTIVE</td>\n",
              "      <td>192</td>\n",
              "      <td></td>\n",
              "      <td>2020070716135-1165</td>\n",
              "      <td>1432738</td>\n",
              "      <td></td>\n",
              "      <td></td>\n",
              "      <td>4082920201831180124</td>\n",
              "    </tr>\n",
              "  </tbody>\n",
              "</table>\n",
              "</div>"
            ],
            "text/plain": [
              "                  CMTE_ID AMNDT_IND  ... MEMO_TEXT               SUB_ID\n",
              "TRANSACTION_DT                       ...                               \n",
              "2020-07-09      C00142711         N  ...            4082920201831179940\n",
              "2020-07-09      C00142711         N  ...            4082920201831180312\n",
              "2020-07-09      C00142711         N  ...            4082920201831180124\n",
              "\n",
              "[3 rows x 20 columns]"
            ]
          },
          "metadata": {
            "tags": []
          },
          "execution_count": 13
        }
      ]
    },
    {
      "cell_type": "code",
      "metadata": {
        "id": "-X73vny14JOv",
        "outputId": "d9dc3369-ec02-4291-976d-75c358f5d05d",
        "colab": {
          "base_uri": "https://localhost:8080/",
          "height": 50
        }
      },
      "source": [
        "# How many contributions happened before/after 07-09-2020?\n",
        "print(f'{boeing_max_contribs.loc[\"2020-07-09\"].shape[0]} transactions happened before 07-09-2020.')\n",
        "print(f'{boeing_max_contribs.loc[\"2020-07-09\":].shape[0]} transactions happened on or after 07-09-2020.')"
      ],
      "execution_count": null,
      "outputs": [
        {
          "output_type": "stream",
          "text": [
            "2227 transactions happened before 07-09-2020.\n",
            "2263 transactions happened on or after 07-09-2020.\n"
          ],
          "name": "stdout"
        }
      ]
    },
    {
      "cell_type": "markdown",
      "metadata": {
        "id": "u1aJ8c2X50ZT"
      },
      "source": [
        "For Boeing, unlike Lockheed Martin, there are an almost equal amount of contributions before and after Boeing executives contributed in the two-week period we found."
      ]
    },
    {
      "cell_type": "markdown",
      "metadata": {
        "id": "KIHlWR-G7zmv"
      },
      "source": [
        "### Political Trends by ZIP Code\n",
        "There aren't really any open datasets that contain political affiliation or congressional district by ZIP code so I focus on a couple ZIP codes in this part, and use https://www.isidewith.com/map/1onjd/support-for-democrats#z10 and https://www.isidewith.com/map/1onnH/support-for-republicans#z11 to determine trends."
      ]
    },
    {
      "cell_type": "markdown",
      "metadata": {
        "id": "qqHw2kE9R5_N"
      },
      "source": [
        "#### Lockheed Martin\n",
        "While there isn't too much data for these particular ZIP codes, we do see that party affiliations of the committees donated to by Lockheed Martin employees match the party trends for that ZIP code."
      ]
    },
    {
      "cell_type": "code",
      "metadata": {
        "id": "Yr7Lx-oIM7OV"
      },
      "source": [
        "# Join committee party affiliation data with individual contribution data\n",
        "committees['CMTE_ID'] = committees['CMTE_ID'].astype(str)\n",
        "lockheed_martin_max_contribs['CMTE_ID'] = lockheed_martin_max_contribs['CMTE_ID'].astype(str)\n",
        "lockheed_martin_max_contribs = lockheed_martin_max_contribs.merge(committees[['CMTE_ID', 'CMTE_NM', 'CMTE_PTY_AFFILIATION']], on = 'CMTE_ID')\n",
        "\n",
        "# Convert ZIP codes to strings to search for substrings\n",
        "lockheed_martin_max_contribs['ZIP_CODE'] = lockheed_martin_max_contribs['ZIP_CODE'].astype(str)"
      ],
      "execution_count": null,
      "outputs": []
    },
    {
      "cell_type": "code",
      "metadata": {
        "id": "J5dyoNcPUH5Z",
        "outputId": "2b2e47d0-ad20-4de3-c32e-e66f2de06eb7",
        "colab": {
          "base_uri": "https://localhost:8080/",
          "height": 50
        }
      },
      "source": [
        "# Let's look at ZIP code 80226 which leans (D)\n",
        "# and count the donations by committee party affiliation\n",
        "lockheed_martin_max_contribs[lockheed_martin_max_contribs['ZIP_CODE'].str.contains('80226')]['CMTE_PTY_AFFILIATION'].value_counts()"
      ],
      "execution_count": null,
      "outputs": [
        {
          "output_type": "execute_result",
          "data": {
            "text/plain": [
              "DEM    8\n",
              "Name: CMTE_PTY_AFFILIATION, dtype: int64"
            ]
          },
          "metadata": {
            "tags": []
          },
          "execution_count": 16
        }
      ]
    },
    {
      "cell_type": "code",
      "metadata": {
        "id": "5vaTILzDRXgU",
        "outputId": "7ec4a9bb-f153-4596-c415-fb75bf13e3d8",
        "colab": {
          "base_uri": "https://localhost:8080/",
          "height": 50
        }
      },
      "source": [
        "# Let's look at ZIP code 19428 which leans (D)\n",
        "# and count the donations by committee party affiliation\n",
        "lockheed_martin_max_contribs[lockheed_martin_max_contribs['ZIP_CODE'].str.contains('19428')]['CMTE_PTY_AFFILIATION'].value_counts()"
      ],
      "execution_count": null,
      "outputs": [
        {
          "output_type": "execute_result",
          "data": {
            "text/plain": [
              "DEM    3\n",
              "Name: CMTE_PTY_AFFILIATION, dtype: int64"
            ]
          },
          "metadata": {
            "tags": []
          },
          "execution_count": 17
        }
      ]
    },
    {
      "cell_type": "markdown",
      "metadata": {
        "id": "vQZ8w8iBSY2b"
      },
      "source": [
        "#### Boeing\n",
        "There isn't much data for these ZIP codes either, but we can see that in one ZIP code, there are contributions to the opposite trending party (74132) while in the other ZIP code, the contributions match the trending party for that ZIP code."
      ]
    },
    {
      "cell_type": "code",
      "metadata": {
        "id": "8yDX-EOMScUH"
      },
      "source": [
        "# Join committee party affiliation data with individual contribution data\n",
        "committees['CMTE_ID'] = committees['CMTE_ID'].astype(str)\n",
        "boeing_max_contribs['CMTE_ID'] = boeing_max_contribs['CMTE_ID'].astype(str)\n",
        "boeing_max_contribs = boeing_max_contribs.merge(committees[['CMTE_ID', 'CMTE_NM', 'CMTE_PTY_AFFILIATION']], on = 'CMTE_ID')"
      ],
      "execution_count": null,
      "outputs": []
    },
    {
      "cell_type": "code",
      "metadata": {
        "id": "gpkEf-EyScUK",
        "outputId": "67b8928e-893c-4fc4-d62f-1fb2ded02ee2",
        "colab": {
          "base_uri": "https://localhost:8080/",
          "height": 50
        }
      },
      "source": [
        "# Convert ZIP codes to strings to search for substrings\n",
        "boeing_max_contribs['ZIP_CODE'] = boeing_max_contribs['ZIP_CODE'].astype(str)\n",
        "\n",
        "# Let's look at ZIP code 74132 which leans (D)\n",
        "# and count the donations by committee party affiliation\n",
        "boeing_max_contribs[boeing_max_contribs['ZIP_CODE'].str.contains('74132')]['CMTE_PTY_AFFILIATION'].value_counts()"
      ],
      "execution_count": null,
      "outputs": [
        {
          "output_type": "execute_result",
          "data": {
            "text/plain": [
              "REP    6\n",
              "Name: CMTE_PTY_AFFILIATION, dtype: int64"
            ]
          },
          "metadata": {
            "tags": []
          },
          "execution_count": 19
        }
      ]
    },
    {
      "cell_type": "code",
      "metadata": {
        "id": "EnqyWQ-EScUN",
        "outputId": "cef5cc64-e442-4c9d-8c77-82dd835ffa20",
        "colab": {
          "base_uri": "https://localhost:8080/",
          "height": 50
        }
      },
      "source": [
        "# Let's look at ZIP code 98270 which leans (D)\n",
        "# and count the donations by committee party affiliation\n",
        "boeing_max_contribs[boeing_max_contribs['ZIP_CODE'].str.contains('98270')]['CMTE_PTY_AFFILIATION'].value_counts()"
      ],
      "execution_count": null,
      "outputs": [
        {
          "output_type": "execute_result",
          "data": {
            "text/plain": [
              "DEM    7\n",
              "Name: CMTE_PTY_AFFILIATION, dtype: int64"
            ]
          },
          "metadata": {
            "tags": []
          },
          "execution_count": 20
        }
      ]
    },
    {
      "cell_type": "markdown",
      "metadata": {
        "id": "fVfMCup-ZEOi"
      },
      "source": [
        "### Linear Regression\n",
        "Let's see if we can predict whether a person will donate to the same party as his/her boss."
      ]
    },
    {
      "cell_type": "code",
      "metadata": {
        "id": "pNigFMt4iUby"
      },
      "source": [
        "import numpy as np\n",
        "from sklearn.linear_model import LinearRegression\n",
        "from sklearn.preprocessing import OneHotEncoder"
      ],
      "execution_count": null,
      "outputs": []
    },
    {
      "cell_type": "markdown",
      "metadata": {
        "id": "qUjNBosyZeuS"
      },
      "source": [
        "#### Feature Engineering"
      ]
    },
    {
      "cell_type": "code",
      "metadata": {
        "id": "Js0yU6CmZKYA",
        "outputId": "ee11606b-a8c7-478f-95b5-c0ddf797010e",
        "colab": {
          "base_uri": "https://localhost:8080/",
          "height": 118
        }
      },
      "source": [
        "# Join committee party affiliation data with individual contribution data\n",
        "committees['CMTE_ID'] = committees['CMTE_ID'].astype(str)\n",
        "lockheed_martin_contribs['CMTE_ID'] = lockheed_martin_contribs['CMTE_ID'].astype(str)\n",
        "lockheed_martin_contribs = lockheed_martin_contribs.fillna('')\n",
        "lockheed_martin_contribs = lockheed_martin_contribs.merge(committees[['CMTE_ID', 'CMTE_NM', 'CMTE_PTY_AFFILIATION']], on = 'CMTE_ID')\n",
        "lockheed_martin_contribs = lockheed_martin_contribs.fillna('')\n",
        "\n",
        "# Select only the rows that have a valid committee party affiliation\n",
        "valid_contributions = lockheed_martin_contribs[~(lockheed_martin_contribs['CMTE_PTY_AFFILIATION'] == '')].copy()\n",
        "\n",
        "# The Lockheed Martin CEO made most of her contributions to the Lockheed Martin\n",
        "# PAC which donates to both party. For the sake of this model though, we will\n",
        "# say that she donated to the Republican party due to the fact that, based on\n",
        "# Lockheed Martin's 2019 PAC disclosure \n",
        "# (https://www.lockheedmartin.com/content/dam/lockheed-martin/eo/documents/governance/LMEPAC-Disbursements-2019.pdf), \n",
        "# the majority of their donations went to Republican committees.\n",
        "# Let's create a column that indicates whether a person's donations matched \n",
        "# the CEO's. 1 means a match; 0 means it didn't match.\n",
        "valid_contributions['matched_CEO'] = np.where(\n",
        "    valid_contributions['CMTE_PTY_AFFILIATION'] == 'REP', 1, 0\n",
        ")\n",
        "\n",
        "# Now we should one-hot encode the party affiliations of donations\n",
        "# so the linear regression model can accept it\n",
        "one_hot_encoder = OneHotEncoder(sparse = False)\n",
        "X = one_hot_encoder.fit_transform(valid_contributions['CMTE_PTY_AFFILIATION'].values.reshape(-1, 1))"
      ],
      "execution_count": null,
      "outputs": [
        {
          "output_type": "stream",
          "text": [
            "/usr/local/lib/python3.6/dist-packages/ipykernel_launcher.py:3: SettingWithCopyWarning: \n",
            "A value is trying to be set on a copy of a slice from a DataFrame.\n",
            "Try using .loc[row_indexer,col_indexer] = value instead\n",
            "\n",
            "See the caveats in the documentation: https://pandas.pydata.org/pandas-docs/stable/user_guide/indexing.html#returning-a-view-versus-a-copy\n",
            "  This is separate from the ipykernel package so we can avoid doing imports until\n"
          ],
          "name": "stderr"
        }
      ]
    },
    {
      "cell_type": "markdown",
      "metadata": {
        "id": "l9-rpcb9oBZO"
      },
      "source": [
        "#### Model Building "
      ]
    },
    {
      "cell_type": "code",
      "metadata": {
        "id": "oV2q2peLcAK1"
      },
      "source": [
        "y = valid_contributions['matched_CEO']\n",
        "linear_regressor = LinearRegression()\n",
        "linear_regressor.fit(X, y);"
      ],
      "execution_count": null,
      "outputs": []
    },
    {
      "cell_type": "code",
      "metadata": {
        "id": "6zy726hWk-4K",
        "outputId": "c74a1e52-d7a6-4582-ce52-f766f5d050d8",
        "colab": {
          "base_uri": "https://localhost:8080/",
          "height": 34
        }
      },
      "source": [
        "# Let's see what the model predicts when we pass in features.\n",
        "# Features should be in the form of an array of five binary\n",
        "# indicators: [DEM, DFL, LIB, NNE, REP, UNK]. A 1 in a particular\n",
        "# location indicates the contribution was for a committee of that party.\n",
        "# e.g., [1, 0, 0, 0, 0, 0] means the contribution was made to a DEM committee.\n",
        "# The result should be close to 1 if it matches and close to 0 if it doesn't.\n",
        "linear_regressor.predict([[1, 0, 0, 0, 0, 0]])"
      ],
      "execution_count": null,
      "outputs": [
        {
          "output_type": "execute_result",
          "data": {
            "text/plain": [
              "array([1.32367533e-16])"
            ]
          },
          "metadata": {
            "tags": []
          },
          "execution_count": 24
        }
      ]
    },
    {
      "cell_type": "markdown",
      "metadata": {
        "id": "mmkpbYD9oSRx"
      },
      "source": [
        "### Party Balance in CO\n",
        "Let's take a look at party balance between executives and employees. Party balance is calculated by creating a score between -1 and 1 depending on contributions to a particular committee. The closer to -1, the more Republican and the closer to 1, the more Democrat. Do employees have the same party balance as executives?"
      ]
    },
    {
      "cell_type": "code",
      "metadata": {
        "id": "LaNU2Fqks-TF",
        "outputId": "51e36836-7799-4eb7-b848-54e53663b1d1",
        "colab": {
          "base_uri": "https://localhost:8080/",
          "height": 70
        }
      },
      "source": [
        "import seaborn as sns\n",
        "import matplotlib.pyplot as plt\n",
        "\n",
        "%matplotlib inline"
      ],
      "execution_count": null,
      "outputs": [
        {
          "output_type": "stream",
          "text": [
            "/usr/local/lib/python3.6/dist-packages/statsmodels/tools/_testing.py:19: FutureWarning: pandas.util.testing is deprecated. Use the functions in the public API at pandas.testing instead.\n",
            "  import pandas.util.testing as tm\n"
          ],
          "name": "stderr"
        }
      ]
    },
    {
      "cell_type": "code",
      "metadata": {
        "id": "IPXkWRzGoV4P"
      },
      "source": [
        "# Pull the executives from CO\n",
        "co_execs = individual_contribs[\n",
        "    (individual_contribs['STATE'] == 'CO')\n",
        "    & (individual_contribs['OCCUPATION'].str.lower().str.contains('executive'))\n",
        "].merge(committees[['CMTE_ID', 'CMTE_NM', 'CMTE_PTY_AFFILIATION']], on = 'CMTE_ID')\n",
        "\n",
        "# Create a \"score\" for each contribution: 1 for DEM, -1 for REP, 0 for all others\n",
        "co_execs['contrib_score'] = np.where(\n",
        "    co_execs['CMTE_PTY_AFFILIATION'] == 'DEM', 1, \n",
        "    np.where(co_execs['CMTE_PTY_AFFILIATION'] == 'REP', -1, 0)\n",
        ")\n",
        "\n",
        "# Calculate the party balance by summing over the `contrib_score` column\n",
        "# and dividing by the number of transactions\n",
        "def party_score(rows):\n",
        "    return rows.sum() / rows.shape[0]\n",
        "\n",
        "co_execs_scores = co_execs.groupby('NAME')['contrib_score'].agg(party_score)"
      ],
      "execution_count": null,
      "outputs": []
    },
    {
      "cell_type": "code",
      "metadata": {
        "id": "srzxy-uUuBhv"
      },
      "source": [
        "# Pull the employees from CO\n",
        "co_emps = individual_contribs[\n",
        "    (individual_contribs['STATE'] == 'CO')\n",
        "    & ~(individual_contribs['OCCUPATION'].str.lower().str.contains('executive', na = False))\n",
        "].merge(committees[['CMTE_ID', 'CMTE_NM', 'CMTE_PTY_AFFILIATION']], on = 'CMTE_ID')\n",
        "\n",
        "# Create a \"score\" for each contribution: 1 for DEM, -1 for REP, 0 for all others\n",
        "co_emps['contrib_score'] = np.where(\n",
        "    co_emps['CMTE_PTY_AFFILIATION'] == 'DEM', 1, \n",
        "    np.where(co_emps['CMTE_PTY_AFFILIATION'] == 'REP', -1, 0)\n",
        ")\n",
        "\n",
        "# Calculate the party balance by summing over the `contrib_score` column\n",
        "# and dividing by the number of transactions\n",
        "def party_score(rows):\n",
        "    return rows.sum() / rows.shape[0]\n",
        "\n",
        "co_emps_scores = co_emps.groupby('NAME')['contrib_score'].agg(party_score)"
      ],
      "execution_count": null,
      "outputs": []
    },
    {
      "cell_type": "code",
      "metadata": {
        "id": "8ziCrSZCuVwI",
        "outputId": "5ce36bcd-716a-481c-dd35-273fc646e92a",
        "colab": {
          "base_uri": "https://localhost:8080/",
          "height": 621
        }
      },
      "source": [
        "fig, axs = plt.subplots(1, 2, figsize = (20, 10))\n",
        "sns.distplot(co_execs_scores, bins = 10, kde = False, ax = axs[0]);\n",
        "axs[0].set_title('Distribution of Party Scores (CO Executives)');\n",
        "axs[0].set_xlabel('Party Score');\n",
        "\n",
        "sns.distplot(co_emps_scores, bins = 10, kde = False, ax = axs[1]);\n",
        "axs[1].set_title('Distribution of Party Scores (CO Employees)');\n",
        "axs[1].set_xlabel('Party Score');"
      ],
      "execution_count": null,
      "outputs": [
        {
          "output_type": "display_data",
          "data": {
            "image/png": "[encoded data removed]",
            "text/plain": [
              "<Figure size 1440x720 with 2 Axes>"
            ]
          },
          "metadata": {
            "tags": [],
            "needs_background": "light"
          }
        }
      ]
    },
    {
      "cell_type": "markdown",
      "metadata": {
        "id": "iLH4Djb8xqKr"
      },
      "source": [
        "Based on the plots above, we can see that it looks like the employees basically have the same party balance as executives in CO. The only difference is that employees tend to be more in the middle versus Democrat while it's the opposite for executives."
      ]
    }
  ]
}